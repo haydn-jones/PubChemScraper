{
 "cells": [
  {
   "cell_type": "code",
   "execution_count": 1,
   "metadata": {},
   "outputs": [],
   "source": [
    "import json\n",
    "import random\n",
    "import re\n",
    "\n",
    "from frozendict import frozendict\n",
    "\n",
    "from pubchem_scraper.augment import augment\n",
    "from pubchem_scraper.datatypes import Example, Molecule, merge_molecules\n",
    "from pubchem_scraper.pubchem_schema import SimpleElement, SimpleStringWithMarkup"
   ]
  },
  {
   "cell_type": "code",
   "execution_count": 2,
   "metadata": {},
   "outputs": [],
   "source": [
    "with open(\"./data/selected.json\") as f:\n",
    "    data = json.load(f)\n",
    "    data: list[SimpleElement] = [SimpleElement.model_validate(x) for x in data]\n",
    "\n",
    "with open(\"./data/prompt.md\") as f:\n",
    "    prompt = f.read()"
   ]
  },
  {
   "cell_type": "code",
   "execution_count": 3,
   "metadata": {},
   "outputs": [],
   "source": [
    "def is_aliased(name: str) -> bool:\n",
    "    regex = r\"^(compound|ligand|derivative|complex|pyrazole|amide|urea|hydroxyl|ketone|pyridazinone|piperazine|cyclohexyl|ester|acid|analog|conjugate|inhibitor)( (compound|ligand|derivative|complex|pyrazole|amide|urea|hydroxyl|ketone|pyridazinone|piperazine|cyclohexyl|ester|acid|analog|conjugate|inhibitor))? [1-9][0-9]?[a-z]?$\"  # noqa: E501\n",
    "    return re.match(regex, name) is not None\n",
    "\n",
    "\n",
    "def create_ft_example(element: SimpleStringWithMarkup):\n",
    "    string = element.string\n",
    "\n",
    "    mols = []\n",
    "    for markup in element.markup:\n",
    "        name = markup.comp_hit(string)\n",
    "        m = re.match(r\"(.*) \\((.*)\\)\", name)\n",
    "        if m:\n",
    "            name, anything = m.groups()\n",
    "            anything = [anything]\n",
    "        else:\n",
    "            anything = []\n",
    "\n",
    "        if is_aliased(name):\n",
    "            anything.append(re.search(r\"\\d+[a-z]?$\", name).group(0))  # type: ignore\n",
    "\n",
    "        mols.append(Molecule(name=name, alternatives=anything))\n",
    "\n",
    "    mols = merge_molecules(mols)\n",
    "    return Example(\n",
    "        sys_prompt=prompt,\n",
    "        user_prompt=string,\n",
    "        response=json.dumps([m.model_dump() for m in mols], separators=(\",\", \":\")),\n",
    "    )"
   ]
  },
  {
   "cell_type": "code",
   "execution_count": 4,
   "metadata": {},
   "outputs": [],
   "source": [
    "training_data = []\n",
    "\n",
    "# Add the original data\n",
    "for element in data:\n",
    "    training_data.append(create_ft_example(element.string))\n",
    "\n",
    "# Add with augments\n",
    "for element in data:\n",
    "    string = element.string\n",
    "    try:\n",
    "        augmented = augment(string, n=2)\n",
    "    except Exception:\n",
    "        augmented = string\n",
    "\n",
    "    training_data.append(create_ft_example(augmented))"
   ]
  },
  {
   "cell_type": "code",
   "execution_count": 5,
   "metadata": {},
   "outputs": [],
   "source": [
    "conversations = [\n",
    "    (\n",
    "        frozendict({\"role\": \"system\", \"content\": ex.sys_prompt}),\n",
    "        frozendict({\"role\": \"user\", \"content\": ex.user_prompt}),\n",
    "        frozendict({\"role\": \"assistant\", \"content\": ex.response}),\n",
    "    )\n",
    "    for ex in training_data\n",
    "]\n",
    "conversations = list(set(conversations))"
   ]
  },
  {
   "cell_type": "code",
   "execution_count": 6,
   "metadata": {},
   "outputs": [],
   "source": [
    "random.shuffle(conversations)\n",
    "\n",
    "train = conversations[: int(0.8 * len(conversations))]\n",
    "valid = conversations[int(0.8 * len(conversations)) :]"
   ]
  },
  {
   "cell_type": "code",
   "execution_count": 7,
   "metadata": {},
   "outputs": [],
   "source": [
    "with open(\"./data/conversations_train.json\", \"w\") as f:\n",
    "    json.dump([{\"messages\": ex} for ex in train], f, indent=2)\n",
    "\n",
    "with open(\"./data/conversations_valid.json\", \"w\") as f:\n",
    "    json.dump([{\"messages\": ex} for ex in valid], f, indent=2)"
   ]
  },
  {
   "cell_type": "code",
   "execution_count": null,
   "metadata": {},
   "outputs": [],
   "source": []
  }
 ],
 "metadata": {
  "kernelspec": {
   "display_name": ".venv",
   "language": "python",
   "name": "python3"
  },
  "language_info": {
   "codemirror_mode": {
    "name": "ipython",
    "version": 3
   },
   "file_extension": ".py",
   "mimetype": "text/x-python",
   "name": "python",
   "nbconvert_exporter": "python",
   "pygments_lexer": "ipython3",
   "version": "3.12.9"
  }
 },
 "nbformat": 4,
 "nbformat_minor": 2
}
